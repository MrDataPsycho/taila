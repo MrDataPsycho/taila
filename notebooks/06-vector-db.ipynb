{
 "cells": [
  {
   "cell_type": "code",
   "execution_count": 1,
   "id": "d5f0b082",
   "metadata": {},
   "outputs": [],
   "source": [
    "from taila.utils.notebook_setting import get_nb_setting\n",
    "from pathlib import Path\n",
    "from taila.utils.data_reader import read_mini_llama_csv_for_notebook"
   ]
  },
  {
   "cell_type": "code",
   "execution_count": 2,
   "id": "2278df09",
   "metadata": {},
   "outputs": [],
   "source": [
    "from llama_index.core import Document"
   ]
  },
  {
   "cell_type": "code",
   "execution_count": 3,
   "id": "423fc298",
   "metadata": {},
   "outputs": [
    {
     "name": "stdout",
     "output_type": "stream",
     "text": [
      "number of articles: 14\n"
     ]
    }
   ],
   "source": [
    "setting = get_nb_setting()\n",
    "data = read_mini_llama_csv_for_notebook()"
   ]
  },
  {
   "cell_type": "code",
   "execution_count": null,
   "id": "2cfdeb5b",
   "metadata": {},
   "outputs": [],
   "source": []
  },
  {
   "cell_type": "code",
   "execution_count": 4,
   "id": "136d39af",
   "metadata": {},
   "outputs": [
    {
     "ename": "NameError",
     "evalue": "name 'chunks' is not defined",
     "output_type": "error",
     "traceback": [
      "\u001b[31m---------------------------------------------------------------------------\u001b[39m",
      "\u001b[31mNameError\u001b[39m                                 Traceback (most recent call last)",
      "\u001b[36mCell\u001b[39m\u001b[36m \u001b[39m\u001b[32mIn[4]\u001b[39m\u001b[32m, line 2\u001b[39m\n\u001b[32m      1\u001b[39m \u001b[38;5;66;03m# Convert the chunks to Document objects so the LlamaIndex framework can process them.\u001b[39;00m\n\u001b[32m----> \u001b[39m\u001b[32m2\u001b[39m documents = [Document(text=t) \u001b[38;5;28;01mfor\u001b[39;00m t \u001b[38;5;129;01min\u001b[39;00m \u001b[43mchunks\u001b[49m]\n",
      "\u001b[31mNameError\u001b[39m: name 'chunks' is not defined"
     ]
    }
   ],
   "source": [
    "# Convert the chunks to Document objects so the LlamaIndex framework can process them.\n",
    "documents = [Document(text=t) for t in chunks]"
   ]
  }
 ],
 "metadata": {
  "kernelspec": {
   "display_name": "taila",
   "language": "python",
   "name": "python3"
  },
  "language_info": {
   "codemirror_mode": {
    "name": "ipython",
    "version": 3
   },
   "file_extension": ".py",
   "mimetype": "text/x-python",
   "name": "python",
   "nbconvert_exporter": "python",
   "pygments_lexer": "ipython3",
   "version": "3.12.9"
  }
 },
 "nbformat": 4,
 "nbformat_minor": 5
}
